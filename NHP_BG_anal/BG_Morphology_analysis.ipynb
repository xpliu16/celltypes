{
 "cells": [
  {
   "cell_type": "code",
   "execution_count": 3,
   "id": "4d9cf299",
   "metadata": {},
   "outputs": [],
   "source": [
    "import pandas as pd\n",
    "import seaborn as sns\n",
    "import matplotlib.pyplot as plt\n",
    "import numpy as np\n",
    "import pingouin as pg\n",
    "\n",
    "df_anno = pd.read_csv(\"./NHP_BG_AIT_116/RSC-204-363/NHP_BG_AIT_116_RSC-204-363_roi_QC.csv\")"
   ]
  },
  {
   "cell_type": "code",
   "execution_count": 5,
   "id": "296b1f0c",
   "metadata": {},
   "outputs": [],
   "source": [
    "df_id = pd.read_csv(\"custom_report_20240610.csv\")    "
   ]
  },
  {
   "cell_type": "code",
   "execution_count": 6,
   "id": "8c88b251",
   "metadata": {},
   "outputs": [],
   "source": [
    "df2 = pd.merge(df_anno, df_id, how='inner', left_on='cell_name', right_on='cell_specimen_name ', sort=True)"
   ]
  },
  {
   "cell_type": "code",
   "execution_count": 7,
   "id": "7a3286d7",
   "metadata": {},
   "outputs": [
    {
     "name": "stdout",
     "output_type": "stream",
     "text": [
      "60\n",
      "60\n"
     ]
    },
    {
     "data": {
      "text/plain": [
       "D1-Matrix             15\n",
       "D2-Matrix             12\n",
       "D2-Striosome           4\n",
       "PVALB-COL19A1-ST18     4\n",
       "LHX6-TAC3-PLPP4        4\n",
       "D2-Hybrid-MCHR2        3\n",
       "D1D2-Hybrid            3\n",
       "SLC17A6                2\n",
       "D1-ShellOT             2\n",
       "D1-Striosome           2\n",
       "MEIS2                  1\n",
       "SN_STH                 1\n",
       "D2-ShellOT             1\n",
       "Name: Subclass_Corr, dtype: int64"
      ]
     },
     "execution_count": 7,
     "metadata": {},
     "output_type": "execute_result"
    }
   ],
   "source": [
    "df_morph = pd.read_excel('Morphology/RawFeatureWide_20240424.xlsx')\n",
    "print(df_morph.shape[0])\n",
    "df2_sub = df2[['cell_specimen_id ', 'Subclass_Tree', 'Subclass_Corr']]\n",
    "df_morph = pd.merge(df_morph, df2_sub, how='left', left_on='specimen_id', right_on='cell_specimen_id ', sort=True)\n",
    "df_morph.columns\n",
    "print(df_morph.shape[0])\n",
    "df_morph['Subclass_Corr'].value_counts()"
   ]
  },
  {
   "cell_type": "code",
   "execution_count": null,
   "id": "065972db",
   "metadata": {},
   "outputs": [],
   "source": []
  }
 ],
 "metadata": {
  "kernelspec": {
   "display_name": "Python 3 (ipykernel)",
   "language": "python",
   "name": "python3"
  },
  "language_info": {
   "codemirror_mode": {
    "name": "ipython",
    "version": 3
   },
   "file_extension": ".py",
   "mimetype": "text/x-python",
   "name": "python",
   "nbconvert_exporter": "python",
   "pygments_lexer": "ipython3",
   "version": "3.8.16"
  }
 },
 "nbformat": 4,
 "nbformat_minor": 5
}
