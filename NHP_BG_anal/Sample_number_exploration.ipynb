{
 "cells": [
  {
   "cell_type": "code",
   "execution_count": 41,
   "id": "308709dc",
   "metadata": {},
   "outputs": [
    {
     "name": "stderr",
     "output_type": "stream",
     "text": [
      "/var/folders/vj/7bfz8tc91053qf1swtym13nc0000gp/T/ipykernel_54887/3626266202.py:5: DtypeWarning: Columns (13,17,19,20,21,22,25,37,38,40,41,42,49,50,51,56,59,70,72,73) have mixed types. Specify dtype option on import or set low_memory=False.\n",
      "  df = pd.read_csv(\"./jem_lims_metadata_240325.csv\")\n"
     ]
    }
   ],
   "source": [
    "import pandas as pd\n",
    "import matplotlib.pyplot as plt\n",
    "import numpy as np\n",
    "\n",
    "df = pd.read_csv(\"./jem_lims_metadata_240325.csv\")"
   ]
  },
  {
   "cell_type": "code",
   "execution_count": 5,
   "id": "1822b70d",
   "metadata": {},
   "outputs": [
    {
     "data": {
      "text/plain": [
       "Index(['jem-version_jem_form', 'jem-date_patch', 'jem-time_patch',\n",
       "       'jem-date_patch_y-m-d', 'jem-date_patch_y', 'jem-date_patch_m',\n",
       "       'jem-date_patch_d', 'jem-date_acsf', 'jem-date_blank',\n",
       "       'jem-date_internal', 'jem-status_misinformation', 'jem-id_species',\n",
       "       'jem-id_slice_specimen', 'jem-id_cell_specimen',\n",
       "       'jem-status_patch_tube', 'jem-id_patched_cell_container',\n",
       "       'jem-id_rig_user', 'jem-id_rig_number', 'jem-status_attempt',\n",
       "       'jem-cell_attached_status', 'jem-cell_attached_status_failure',\n",
       "       'jem-break_in_status', 'jem-break_in_status_failure',\n",
       "       'jem-status_success_failure', 'jem-status_reporter',\n",
       "       'jem-cell_virus_enhancer', 'jem-roi_super', 'jem-roi_major_minor',\n",
       "       'jem-roi_major', 'jem-roi_minor', 'jem-cell_health',\n",
       "       'jem-health_fill_quality', 'jem-nucleus_post_patch',\n",
       "       'jem-nucleus_sucked', 'jem-res_final_seal', 'jem-depth',\n",
       "       'jem-in_bath_resistance', 'jem-in_bath_clog',\n",
       "       'jem-cell_attached_dimple', 'jem-break_in_pressure_max',\n",
       "       'jem-break_in_zap_max', 'jem-break_in_zap_use', 'jem-break_in_reseal',\n",
       "       'jem-pressure_extraction', 'jem-pressure_retraction',\n",
       "       'jem-time_duration_experiment', 'jem-time_duration_extraction',\n",
       "       'jem-time_duration_retraction', 'jem-in_bath_time_start',\n",
       "       'jem-seal_time_start', 'jem-cell_attached_time_start',\n",
       "       'jem-break_in_time_start', 'jem-break_in_time_end',\n",
       "       'jem-time_exp_extraction_start', 'jem-time_exp_extraction_end',\n",
       "       'jem-time_exp_retraction_end', 'jem-time_exp_channel_end',\n",
       "       'jem-virus_enhancer', 'jem-dic', 'jem-slice_level_project',\n",
       "       'jem-project_level_nucleus', 'jem-project_name',\n",
       "       'jem-project_icv_injection_fluorescent_roi',\n",
       "       'jem-project_retrograde_labeling_hemisphere',\n",
       "       'jem-project_retrograde_labeling_region',\n",
       "       'jem-project_retrograde_labeling_exp', 'jem-notes_overall',\n",
       "       'jem-notes_qc', 'jem-notes_extraction', 'jem-notes_failure',\n",
       "       'jem-time_slice_eval', 'jem-slice_health', 'jem-slice_observations',\n",
       "       'jem-slice_quality_comments', 'lims-id_species', 'lims-id_project_code',\n",
       "       'lims-id_slice_specimen', 'lims-id_cell_specimen',\n",
       "       'lims-id_patched_cell_container', 'lims-cell_reporter',\n",
       "       'lims-structure', 'lims-histology_well_name',\n",
       "       'lims-id_cell_specimen_id', 'lims-id_slice_genotype', 'lims-depth',\n",
       "       'test-jem_lims_specimen_id_congruency'],\n",
       "      dtype='object')"
      ]
     },
     "execution_count": 5,
     "metadata": {},
     "output_type": "execute_result"
    }
   ],
   "source": [
    "df.columns"
   ]
  },
  {
   "cell_type": "code",
   "execution_count": 79,
   "id": "a22e2f45",
   "metadata": {},
   "outputs": [],
   "source": [
    "from datetime import datetime\n",
    "\n",
    "df['dates'] = [datetime.strptime(date, '%m/%d/%Y') for date in df['jem-date_patch']]"
   ]
  },
  {
   "cell_type": "code",
   "execution_count": 55,
   "id": "13d8fdc6",
   "metadata": {},
   "outputs": [
    {
     "data": {
      "text/plain": [
       "NaN                   38745\n",
       "PGA                    1615\n",
       "HMBA-UM1               1354\n",
       "Thalamus-U19            293\n",
       "Mouse Connects-UM1      113\n",
       "LC/DR - R01              54\n",
       "Name: jem-slice_level_project, dtype: int64"
      ]
     },
     "execution_count": 55,
     "metadata": {},
     "output_type": "execute_result"
    }
   ],
   "source": [
    "df['jem-slice_level_project'].value_counts(dropna=False)"
   ]
  },
  {
   "cell_type": "code",
   "execution_count": 58,
   "id": "35d5690d",
   "metadata": {},
   "outputs": [
    {
     "data": {
      "text/plain": [
       "(42174, 86)"
      ]
     },
     "execution_count": 58,
     "metadata": {},
     "output_type": "execute_result"
    }
   ],
   "source": [
    "df.shape"
   ]
  },
  {
   "cell_type": "code",
   "execution_count": 80,
   "id": "cadb6c49",
   "metadata": {},
   "outputs": [],
   "source": [
    "df_sub = df[df['jem-slice_level_project'] == 'HMBA-UM1']"
   ]
  },
  {
   "cell_type": "code",
   "execution_count": 60,
   "id": "1723d40b",
   "metadata": {},
   "outputs": [
    {
     "data": {
      "text/plain": [
       "(1354, 86)"
      ]
     },
     "execution_count": 60,
     "metadata": {},
     "output_type": "execute_result"
    }
   ],
   "source": [
    "df_sub.shape"
   ]
  },
  {
   "cell_type": "code",
   "execution_count": 82,
   "id": "95136d3d",
   "metadata": {},
   "outputs": [
    {
     "data": {
      "text/plain": [
       "3841   2023-08-03\n",
       "3836   2023-08-03\n",
       "3837   2023-08-03\n",
       "3840   2023-08-03\n",
       "3839   2023-08-03\n",
       "          ...    \n",
       "27     2024-03-22\n",
       "26     2024-03-22\n",
       "25     2024-03-22\n",
       "24     2024-03-22\n",
       "23     2024-03-22\n",
       "Name: dates, Length: 1354, dtype: datetime64[ns]"
      ]
     },
     "execution_count": 82,
     "metadata": {},
     "output_type": "execute_result"
    }
   ],
   "source": [
    "df_sub['dates'].sort_values()"
   ]
  },
  {
   "cell_type": "code",
   "execution_count": 93,
   "id": "5ebc395a",
   "metadata": {},
   "outputs": [
    {
     "data": {
      "text/plain": [
       "PGA                   1611\n",
       "HMBA-UM1              1354\n",
       "NaN                    417\n",
       "Thalamus-U19           293\n",
       "Mouse Connects-UM1     113\n",
       "LC/DR - R01             54\n",
       "Name: jem-slice_level_project, dtype: int64"
      ]
     },
     "execution_count": 93,
     "metadata": {},
     "output_type": "execute_result"
    }
   ],
   "source": [
    "df_sub2 = df[df['dates'] >= df['dates'][3841]]\n",
    "df_sub2['jem-slice_level_project'].value_counts(dropna=False)"
   ]
  },
  {
   "cell_type": "code",
   "execution_count": 56,
   "id": "e7eec624",
   "metadata": {},
   "outputs": [
    {
     "data": {
      "text/plain": [
       "Mouse                    29311\n",
       "Human                     8644\n",
       "NHP-Macaca nemestrina     3651\n",
       "NHP-Macaca mulatta         292\n",
       "NHP-Saimiri sciureus       276\n",
       "Name: jem-id_species, dtype: int64"
      ]
     },
     "execution_count": 56,
     "metadata": {},
     "output_type": "execute_result"
    }
   ],
   "source": [
    "df['jem-id_species'].value_counts(dropna=False)"
   ]
  },
  {
   "cell_type": "code",
   "execution_count": 47,
   "id": "c5d99431",
   "metadata": {},
   "outputs": [
    {
     "data": {
      "text/plain": [
       "NHP-Macaca nemestrina    716\n",
       "Human                    561\n",
       "Mouse                     77\n",
       "Name: jem-id_species, dtype: int64"
      ]
     },
     "execution_count": 47,
     "metadata": {},
     "output_type": "execute_result"
    }
   ],
   "source": [
    "df_sub['jem-id_species'].value_counts()"
   ]
  },
  {
   "cell_type": "code",
   "execution_count": 94,
   "id": "1bc2f1b2",
   "metadata": {},
   "outputs": [
    {
     "data": {
      "text/plain": [
       "Mouse                    1908\n",
       "Human                    1009\n",
       "NHP-Macaca nemestrina     925\n",
       "Name: jem-id_species, dtype: int64"
      ]
     },
     "execution_count": 94,
     "metadata": {},
     "output_type": "execute_result"
    }
   ],
   "source": [
    "df_sub2['jem-id_species'].value_counts()"
   ]
  },
  {
   "cell_type": "code",
   "execution_count": 96,
   "id": "c8fdc424",
   "metadata": {},
   "outputs": [
    {
     "data": {
      "text/plain": [
       "HMBA-UM1              716\n",
       "NaN                   187\n",
       "Thalamus-U19           13\n",
       "Mouse Connects-UM1      9\n",
       "Name: jem-slice_level_project, dtype: int64"
      ]
     },
     "execution_count": 96,
     "metadata": {},
     "output_type": "execute_result"
    }
   ],
   "source": [
    "df_sub2[df_sub2['jem-id_species']=='NHP-Macaca nemestrina']['jem-slice_level_project'].value_counts(dropna=False)"
   ]
  },
  {
   "cell_type": "code",
   "execution_count": 48,
   "id": "be59f5d4",
   "metadata": {},
   "outputs": [],
   "source": [
    "df_sub = df_sub[['NHP' in sp for sp in df_sub['jem-id_species']]]"
   ]
  },
  {
   "cell_type": "code",
   "execution_count": 49,
   "id": "18083742",
   "metadata": {},
   "outputs": [
    {
     "data": {
      "text/plain": [
       "716"
      ]
     },
     "execution_count": 49,
     "metadata": {},
     "output_type": "execute_result"
    }
   ],
   "source": [
    "sum(['NHP' in sp for sp in df_sub['jem-id_species']])"
   ]
  },
  {
   "cell_type": "code",
   "execution_count": 50,
   "id": "5efe3728",
   "metadata": {},
   "outputs": [
    {
     "data": {
      "text/html": [
       "<div>\n",
       "<style scoped>\n",
       "    .dataframe tbody tr th:only-of-type {\n",
       "        vertical-align: middle;\n",
       "    }\n",
       "\n",
       "    .dataframe tbody tr th {\n",
       "        vertical-align: top;\n",
       "    }\n",
       "\n",
       "    .dataframe thead th {\n",
       "        text-align: right;\n",
       "    }\n",
       "</style>\n",
       "<table border=\"1\" class=\"dataframe\">\n",
       "  <thead>\n",
       "    <tr style=\"text-align: right;\">\n",
       "      <th></th>\n",
       "      <th>jem-version_jem_form</th>\n",
       "      <th>jem-date_patch</th>\n",
       "      <th>jem-time_patch</th>\n",
       "      <th>jem-date_patch_y-m-d</th>\n",
       "      <th>jem-date_patch_y</th>\n",
       "      <th>jem-date_patch_m</th>\n",
       "      <th>jem-date_patch_d</th>\n",
       "      <th>jem-date_acsf</th>\n",
       "      <th>jem-date_blank</th>\n",
       "      <th>jem-date_internal</th>\n",
       "      <th>...</th>\n",
       "      <th>lims-id_slice_specimen</th>\n",
       "      <th>lims-id_cell_specimen</th>\n",
       "      <th>lims-id_patched_cell_container</th>\n",
       "      <th>lims-cell_reporter</th>\n",
       "      <th>lims-structure</th>\n",
       "      <th>lims-histology_well_name</th>\n",
       "      <th>lims-id_cell_specimen_id</th>\n",
       "      <th>lims-id_slice_genotype</th>\n",
       "      <th>lims-depth</th>\n",
       "      <th>test-jem_lims_specimen_id_congruency</th>\n",
       "    </tr>\n",
       "  </thead>\n",
       "  <tbody>\n",
       "    <tr>\n",
       "      <th>425</th>\n",
       "      <td>2.1.5</td>\n",
       "      <td>03/08/2024</td>\n",
       "      <td>10:05:53</td>\n",
       "      <td>2024-03-08</td>\n",
       "      <td>2024</td>\n",
       "      <td>3</td>\n",
       "      <td>8</td>\n",
       "      <td>03/07/2024</td>\n",
       "      <td>NaN</td>\n",
       "      <td>01/22/2024</td>\n",
       "      <td>...</td>\n",
       "      <td>NaN</td>\n",
       "      <td>NaN</td>\n",
       "      <td>NaN</td>\n",
       "      <td>NaN</td>\n",
       "      <td>NaN</td>\n",
       "      <td>NaN</td>\n",
       "      <td>NaN</td>\n",
       "      <td>NaN</td>\n",
       "      <td>NaN</td>\n",
       "      <td>Missing JEM Cell Specimen ID</td>\n",
       "    </tr>\n",
       "    <tr>\n",
       "      <th>426</th>\n",
       "      <td>2.1.5</td>\n",
       "      <td>03/08/2024</td>\n",
       "      <td>10:05:53</td>\n",
       "      <td>2024-03-08</td>\n",
       "      <td>2024</td>\n",
       "      <td>3</td>\n",
       "      <td>8</td>\n",
       "      <td>03/07/2024</td>\n",
       "      <td>NaN</td>\n",
       "      <td>01/22/2024</td>\n",
       "      <td>...</td>\n",
       "      <td>NaN</td>\n",
       "      <td>NaN</td>\n",
       "      <td>NaN</td>\n",
       "      <td>NaN</td>\n",
       "      <td>NaN</td>\n",
       "      <td>NaN</td>\n",
       "      <td>NaN</td>\n",
       "      <td>NaN</td>\n",
       "      <td>NaN</td>\n",
       "      <td>Missing JEM Cell Specimen ID</td>\n",
       "    </tr>\n",
       "    <tr>\n",
       "      <th>470</th>\n",
       "      <td>2.1.5</td>\n",
       "      <td>03/07/2024</td>\n",
       "      <td>09:53:34</td>\n",
       "      <td>2024-03-07</td>\n",
       "      <td>2024</td>\n",
       "      <td>3</td>\n",
       "      <td>7</td>\n",
       "      <td>03/06/2024</td>\n",
       "      <td>01/04/2024</td>\n",
       "      <td>01/22/2024</td>\n",
       "      <td>...</td>\n",
       "      <td>QN24.26.004</td>\n",
       "      <td>QN24.26.004.14.09B.01</td>\n",
       "      <td>PCS4_240307_151_A01</td>\n",
       "      <td>not applicable</td>\n",
       "      <td>NaN</td>\n",
       "      <td>EPhys_240311_01_A01_Q</td>\n",
       "      <td>Z14095</td>\n",
       "      <td>NaN</td>\n",
       "      <td>97.2</td>\n",
       "      <td>Matching JEM &amp; LIMS Information</td>\n",
       "    </tr>\n",
       "    <tr>\n",
       "      <th>471</th>\n",
       "      <td>2.1.5</td>\n",
       "      <td>03/07/2024</td>\n",
       "      <td>09:53:34</td>\n",
       "      <td>2024-03-07</td>\n",
       "      <td>2024</td>\n",
       "      <td>3</td>\n",
       "      <td>7</td>\n",
       "      <td>03/06/2024</td>\n",
       "      <td>NaN</td>\n",
       "      <td>01/22/2024</td>\n",
       "      <td>...</td>\n",
       "      <td>NaN</td>\n",
       "      <td>NaN</td>\n",
       "      <td>NaN</td>\n",
       "      <td>NaN</td>\n",
       "      <td>NaN</td>\n",
       "      <td>NaN</td>\n",
       "      <td>NaN</td>\n",
       "      <td>NaN</td>\n",
       "      <td>NaN</td>\n",
       "      <td>Missing JEM Cell Specimen ID</td>\n",
       "    </tr>\n",
       "    <tr>\n",
       "      <th>472</th>\n",
       "      <td>2.1.5</td>\n",
       "      <td>03/07/2024</td>\n",
       "      <td>09:53:34</td>\n",
       "      <td>2024-03-07</td>\n",
       "      <td>2024</td>\n",
       "      <td>3</td>\n",
       "      <td>7</td>\n",
       "      <td>03/06/2024</td>\n",
       "      <td>NaN</td>\n",
       "      <td>01/22/2024</td>\n",
       "      <td>...</td>\n",
       "      <td>NaN</td>\n",
       "      <td>NaN</td>\n",
       "      <td>NaN</td>\n",
       "      <td>NaN</td>\n",
       "      <td>NaN</td>\n",
       "      <td>NaN</td>\n",
       "      <td>NaN</td>\n",
       "      <td>NaN</td>\n",
       "      <td>NaN</td>\n",
       "      <td>Missing JEM Cell Specimen ID</td>\n",
       "    </tr>\n",
       "    <tr>\n",
       "      <th>...</th>\n",
       "      <td>...</td>\n",
       "      <td>...</td>\n",
       "      <td>...</td>\n",
       "      <td>...</td>\n",
       "      <td>...</td>\n",
       "      <td>...</td>\n",
       "      <td>...</td>\n",
       "      <td>...</td>\n",
       "      <td>...</td>\n",
       "      <td>...</td>\n",
       "      <td>...</td>\n",
       "      <td>...</td>\n",
       "      <td>...</td>\n",
       "      <td>...</td>\n",
       "      <td>...</td>\n",
       "      <td>...</td>\n",
       "      <td>...</td>\n",
       "      <td>...</td>\n",
       "      <td>...</td>\n",
       "      <td>...</td>\n",
       "      <td>...</td>\n",
       "    </tr>\n",
       "    <tr>\n",
       "      <th>3837</th>\n",
       "      <td>2.1.5</td>\n",
       "      <td>08/03/2023</td>\n",
       "      <td>13:43:07</td>\n",
       "      <td>2023-08-03</td>\n",
       "      <td>2023</td>\n",
       "      <td>8</td>\n",
       "      <td>3</td>\n",
       "      <td>08/02/2023</td>\n",
       "      <td>06/08/2023</td>\n",
       "      <td>06/07/2023</td>\n",
       "      <td>...</td>\n",
       "      <td>QN23.26.016</td>\n",
       "      <td>QN23.26.016.16.13A.02</td>\n",
       "      <td>PCS4_230803_152_A01</td>\n",
       "      <td>positive</td>\n",
       "      <td>V1</td>\n",
       "      <td>EPhys_230807_01_A02_Q</td>\n",
       "      <td>Z12353</td>\n",
       "      <td>NaN</td>\n",
       "      <td>89.6</td>\n",
       "      <td>Matching JEM &amp; LIMS Information</td>\n",
       "    </tr>\n",
       "    <tr>\n",
       "      <th>3838</th>\n",
       "      <td>2.1.5</td>\n",
       "      <td>08/03/2023</td>\n",
       "      <td>13:43:07</td>\n",
       "      <td>2023-08-03</td>\n",
       "      <td>2023</td>\n",
       "      <td>8</td>\n",
       "      <td>3</td>\n",
       "      <td>08/02/2023</td>\n",
       "      <td>06/08/2023</td>\n",
       "      <td>06/07/2023</td>\n",
       "      <td>...</td>\n",
       "      <td>QN23.26.016</td>\n",
       "      <td>QN23.26.016.16.13A.03</td>\n",
       "      <td>PCS4_230803_153_A01</td>\n",
       "      <td>positive</td>\n",
       "      <td>V1</td>\n",
       "      <td>EPhys_230807_01_A02_Q</td>\n",
       "      <td>Z12353</td>\n",
       "      <td>NaN</td>\n",
       "      <td>77.2</td>\n",
       "      <td>Matching JEM &amp; LIMS Information</td>\n",
       "    </tr>\n",
       "    <tr>\n",
       "      <th>3839</th>\n",
       "      <td>2.1.5</td>\n",
       "      <td>08/03/2023</td>\n",
       "      <td>13:43:07</td>\n",
       "      <td>2023-08-03</td>\n",
       "      <td>2023</td>\n",
       "      <td>8</td>\n",
       "      <td>3</td>\n",
       "      <td>08/02/2023</td>\n",
       "      <td>06/08/2023</td>\n",
       "      <td>06/07/2023</td>\n",
       "      <td>...</td>\n",
       "      <td>QN23.26.016</td>\n",
       "      <td>QN23.26.016.16.13A.04</td>\n",
       "      <td>PCS4_230803_154_A01</td>\n",
       "      <td>positive</td>\n",
       "      <td>NaN</td>\n",
       "      <td>EPhys_230807_01_A02_Q</td>\n",
       "      <td>Z12353</td>\n",
       "      <td>NaN</td>\n",
       "      <td>112.2</td>\n",
       "      <td>Matching JEM &amp; LIMS Information</td>\n",
       "    </tr>\n",
       "    <tr>\n",
       "      <th>3840</th>\n",
       "      <td>2.1.5</td>\n",
       "      <td>08/03/2023</td>\n",
       "      <td>13:43:07</td>\n",
       "      <td>2023-08-03</td>\n",
       "      <td>2023</td>\n",
       "      <td>8</td>\n",
       "      <td>3</td>\n",
       "      <td>08/02/2023</td>\n",
       "      <td>06/08/2023</td>\n",
       "      <td>06/07/2023</td>\n",
       "      <td>...</td>\n",
       "      <td>QN23.26.016</td>\n",
       "      <td>QN23.26.016.16.13A.05</td>\n",
       "      <td>PCS4_230803_155_A01</td>\n",
       "      <td>positive</td>\n",
       "      <td>NaN</td>\n",
       "      <td>EPhys_230807_01_A02_Q</td>\n",
       "      <td>Z12353</td>\n",
       "      <td>NaN</td>\n",
       "      <td>94.0</td>\n",
       "      <td>Matching JEM &amp; LIMS Information</td>\n",
       "    </tr>\n",
       "    <tr>\n",
       "      <th>3841</th>\n",
       "      <td>2.1.5</td>\n",
       "      <td>08/03/2023</td>\n",
       "      <td>13:43:07</td>\n",
       "      <td>2023-08-03</td>\n",
       "      <td>2023</td>\n",
       "      <td>8</td>\n",
       "      <td>3</td>\n",
       "      <td>08/02/2023</td>\n",
       "      <td>NaN</td>\n",
       "      <td>06/07/2023</td>\n",
       "      <td>...</td>\n",
       "      <td>NaN</td>\n",
       "      <td>NaN</td>\n",
       "      <td>NaN</td>\n",
       "      <td>NaN</td>\n",
       "      <td>NaN</td>\n",
       "      <td>NaN</td>\n",
       "      <td>NaN</td>\n",
       "      <td>NaN</td>\n",
       "      <td>NaN</td>\n",
       "      <td>Missing JEM Cell Specimen ID</td>\n",
       "    </tr>\n",
       "  </tbody>\n",
       "</table>\n",
       "<p>716 rows × 86 columns</p>\n",
       "</div>"
      ],
      "text/plain": [
       "     jem-version_jem_form jem-date_patch jem-time_patch jem-date_patch_y-m-d  \\\n",
       "425                 2.1.5     03/08/2024       10:05:53           2024-03-08   \n",
       "426                 2.1.5     03/08/2024       10:05:53           2024-03-08   \n",
       "470                 2.1.5     03/07/2024       09:53:34           2024-03-07   \n",
       "471                 2.1.5     03/07/2024       09:53:34           2024-03-07   \n",
       "472                 2.1.5     03/07/2024       09:53:34           2024-03-07   \n",
       "...                   ...            ...            ...                  ...   \n",
       "3837                2.1.5     08/03/2023       13:43:07           2023-08-03   \n",
       "3838                2.1.5     08/03/2023       13:43:07           2023-08-03   \n",
       "3839                2.1.5     08/03/2023       13:43:07           2023-08-03   \n",
       "3840                2.1.5     08/03/2023       13:43:07           2023-08-03   \n",
       "3841                2.1.5     08/03/2023       13:43:07           2023-08-03   \n",
       "\n",
       "      jem-date_patch_y  jem-date_patch_m  jem-date_patch_d jem-date_acsf  \\\n",
       "425               2024                 3                 8    03/07/2024   \n",
       "426               2024                 3                 8    03/07/2024   \n",
       "470               2024                 3                 7    03/06/2024   \n",
       "471               2024                 3                 7    03/06/2024   \n",
       "472               2024                 3                 7    03/06/2024   \n",
       "...                ...               ...               ...           ...   \n",
       "3837              2023                 8                 3    08/02/2023   \n",
       "3838              2023                 8                 3    08/02/2023   \n",
       "3839              2023                 8                 3    08/02/2023   \n",
       "3840              2023                 8                 3    08/02/2023   \n",
       "3841              2023                 8                 3    08/02/2023   \n",
       "\n",
       "     jem-date_blank jem-date_internal  ... lims-id_slice_specimen  \\\n",
       "425             NaN        01/22/2024  ...                    NaN   \n",
       "426             NaN        01/22/2024  ...                    NaN   \n",
       "470      01/04/2024        01/22/2024  ...            QN24.26.004   \n",
       "471             NaN        01/22/2024  ...                    NaN   \n",
       "472             NaN        01/22/2024  ...                    NaN   \n",
       "...             ...               ...  ...                    ...   \n",
       "3837     06/08/2023        06/07/2023  ...            QN23.26.016   \n",
       "3838     06/08/2023        06/07/2023  ...            QN23.26.016   \n",
       "3839     06/08/2023        06/07/2023  ...            QN23.26.016   \n",
       "3840     06/08/2023        06/07/2023  ...            QN23.26.016   \n",
       "3841            NaN        06/07/2023  ...                    NaN   \n",
       "\n",
       "      lims-id_cell_specimen lims-id_patched_cell_container lims-cell_reporter  \\\n",
       "425                     NaN                            NaN                NaN   \n",
       "426                     NaN                            NaN                NaN   \n",
       "470   QN24.26.004.14.09B.01            PCS4_240307_151_A01     not applicable   \n",
       "471                     NaN                            NaN                NaN   \n",
       "472                     NaN                            NaN                NaN   \n",
       "...                     ...                            ...                ...   \n",
       "3837  QN23.26.016.16.13A.02            PCS4_230803_152_A01           positive   \n",
       "3838  QN23.26.016.16.13A.03            PCS4_230803_153_A01           positive   \n",
       "3839  QN23.26.016.16.13A.04            PCS4_230803_154_A01           positive   \n",
       "3840  QN23.26.016.16.13A.05            PCS4_230803_155_A01           positive   \n",
       "3841                    NaN                            NaN                NaN   \n",
       "\n",
       "     lims-structure lims-histology_well_name lims-id_cell_specimen_id  \\\n",
       "425             NaN                      NaN                      NaN   \n",
       "426             NaN                      NaN                      NaN   \n",
       "470             NaN    EPhys_240311_01_A01_Q                   Z14095   \n",
       "471             NaN                      NaN                      NaN   \n",
       "472             NaN                      NaN                      NaN   \n",
       "...             ...                      ...                      ...   \n",
       "3837             V1    EPhys_230807_01_A02_Q                   Z12353   \n",
       "3838             V1    EPhys_230807_01_A02_Q                   Z12353   \n",
       "3839            NaN    EPhys_230807_01_A02_Q                   Z12353   \n",
       "3840            NaN    EPhys_230807_01_A02_Q                   Z12353   \n",
       "3841            NaN                      NaN                      NaN   \n",
       "\n",
       "     lims-id_slice_genotype  lims-depth test-jem_lims_specimen_id_congruency  \n",
       "425                     NaN         NaN         Missing JEM Cell Specimen ID  \n",
       "426                     NaN         NaN         Missing JEM Cell Specimen ID  \n",
       "470                     NaN        97.2      Matching JEM & LIMS Information  \n",
       "471                     NaN         NaN         Missing JEM Cell Specimen ID  \n",
       "472                     NaN         NaN         Missing JEM Cell Specimen ID  \n",
       "...                     ...         ...                                  ...  \n",
       "3837                    NaN        89.6      Matching JEM & LIMS Information  \n",
       "3838                    NaN        77.2      Matching JEM & LIMS Information  \n",
       "3839                    NaN       112.2      Matching JEM & LIMS Information  \n",
       "3840                    NaN        94.0      Matching JEM & LIMS Information  \n",
       "3841                    NaN         NaN         Missing JEM Cell Specimen ID  \n",
       "\n",
       "[716 rows x 86 columns]"
      ]
     },
     "execution_count": 50,
     "metadata": {},
     "output_type": "execute_result"
    }
   ],
   "source": [
    "df_sub"
   ]
  },
  {
   "cell_type": "code",
   "execution_count": 51,
   "id": "2925b655",
   "metadata": {},
   "outputs": [],
   "source": [
    "df_sub = df_sub[df_sub['jem-status_patch_tube'] == \"Patch Tube\"]"
   ]
  },
  {
   "cell_type": "code",
   "execution_count": 52,
   "id": "7b31427d",
   "metadata": {},
   "outputs": [
    {
     "name": "stderr",
     "output_type": "stream",
     "text": [
      "/var/folders/vj/7bfz8tc91053qf1swtym13nc0000gp/T/ipykernel_54887/2306673146.py:1: SettingWithCopyWarning: \n",
      "A value is trying to be set on a copy of a slice from a DataFrame.\n",
      "Try using .loc[row_indexer,col_indexer] = value instead\n",
      "\n",
      "See the caveats in the documentation: https://pandas.pydata.org/pandas-docs/stable/user_guide/indexing.html#returning-a-view-versus-a-copy\n",
      "  df_sub['donor'] = ['.'.join(spec.split('.')[0:3]) for spec in df_sub['jem-id_slice_specimen']]\n"
     ]
    },
    {
     "data": {
      "text/plain": [
       "470     QN24.26.004\n",
       "509     QN24.26.004\n",
       "510     QN24.26.004\n",
       "511     QN24.26.004\n",
       "512     QN24.26.004\n",
       "           ...     \n",
       "3836    QN23.26.016\n",
       "3837    QN23.26.016\n",
       "3838    QN23.26.016\n",
       "3839    QN23.26.016\n",
       "3840    QN23.26.016\n",
       "Name: donor, Length: 271, dtype: object"
      ]
     },
     "execution_count": 52,
     "metadata": {},
     "output_type": "execute_result"
    }
   ],
   "source": [
    "df_sub['donor'] = ['.'.join(spec.split('.')[0:3]) for spec in df_sub['jem-id_slice_specimen']]\n",
    "df_sub['donor']"
   ]
  },
  {
   "cell_type": "code",
   "execution_count": 53,
   "id": "f6f4bb77",
   "metadata": {},
   "outputs": [
    {
     "data": {
      "text/plain": [
       "QN23.26.019    91\n",
       "QN23.26.020    60\n",
       "QN24.26.004    30\n",
       "QN24.26.002    29\n",
       "QN24.26.001    28\n",
       "QN24.26.003    21\n",
       "QN23.26.021     7\n",
       "QN23.26.016     5\n",
       "Name: donor, dtype: int64"
      ]
     },
     "execution_count": 53,
     "metadata": {},
     "output_type": "execute_result"
    }
   ],
   "source": [
    "df_sub['donor'].value_counts()"
   ]
  },
  {
   "cell_type": "code",
   "execution_count": 54,
   "id": "374830bb",
   "metadata": {},
   "outputs": [
    {
     "data": {
      "text/plain": [
       "271"
      ]
     },
     "execution_count": 54,
     "metadata": {},
     "output_type": "execute_result"
    }
   ],
   "source": [
    "91+60+30+29+28+21+7+5"
   ]
  },
  {
   "cell_type": "code",
   "execution_count": null,
   "id": "1ca39516",
   "metadata": {},
   "outputs": [],
   "source": []
  }
 ],
 "metadata": {
  "kernelspec": {
   "display_name": "Python 3 (ipykernel)",
   "language": "python",
   "name": "python3"
  },
  "language_info": {
   "codemirror_mode": {
    "name": "ipython",
    "version": 3
   },
   "file_extension": ".py",
   "mimetype": "text/x-python",
   "name": "python",
   "nbconvert_exporter": "python",
   "pygments_lexer": "ipython3",
   "version": "3.8.16"
  }
 },
 "nbformat": 4,
 "nbformat_minor": 5
}
